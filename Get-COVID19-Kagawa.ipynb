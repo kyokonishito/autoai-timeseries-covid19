{
 "cells": [
  {
   "cell_type": "markdown",
   "metadata": {
    "collapsed": true
   },
   "source": [
    "# AutoAI時系列予測 COVID-19 都道府県 感染者予測 データファイル作成 (香川版)\n",
    "\n",
    "\n",
    "このnotebookはIBMCloud上のWatson Studioのnotebookで動くように書かれています。\n",
    "\n",
    "Watson Studio上のnotebookからIBM Cloud Object Storage(ICOS)へのFileの読み書き - project-libを使う -の手順が前準備として必要です。\n",
    "\n",
    "まずは1,2を実施お願いします。\n",
    "\n",
    "- 1.[ Projectを開く](https://qiita.com/nishikyon/items/1bed62a2a98b0c970f40#1-project%E3%82%92%E9%96%8B%E3%81%8F)\n",
    "- 2.[ 前準備アクセス・トークンの作成](https://qiita.com/nishikyon/items/1bed62a2a98b0c970f40#2-%E5%89%8D%E6%BA%96%E5%82%99%E3%82%A2%E3%82%AF%E3%82%BB%E3%82%B9%E3%83%88%E3%83%BC%E3%82%AF%E3%83%B3%E3%81%AE%E4%BD%9C%E6%88%90)\n",
    "\n",
    "その後、このnotebookに\n",
    "\n",
    "- [5: プロジェクト・トークンの挿入](https://qiita.com/nishikyon/items/1bed62a2a98b0c970f40#5-%E3%83%97%E3%83%AD%E3%82%B8%E3%82%A7%E3%82%AF%E3%83%88%E3%83%88%E3%83%BC%E3%82%AF%E3%83%B3%E3%81%AE%E6%8C%BF%E5%85%A5)を実施してください。\n",
    "\n",
    "\n",
    "一番上に挿入されたセルの実行は忘れずにお願いします。"
   ]
  },
  {
   "cell_type": "markdown",
   "metadata": {},
   "source": [
    "# 1. データの取得\n",
    "\n",
    "[厚生労働省のオープンデータ](https://www.mhlw.go.jp/stf/covid-19/open-data.html) に掲載されている\n",
    "[新規陽性者数の推移（日別）](https://covid19.mhlw.go.jp/public/opendata/newly_confirmed_cases_daily.csv)を取得します。"
   ]
  },
  {
   "cell_type": "code",
   "execution_count": null,
   "metadata": {},
   "outputs": [],
   "source": [
    "!wget https://covid19.mhlw.go.jp/public/opendata/newly_confirmed_cases_daily.csv"
   ]
  },
  {
   "cell_type": "markdown",
   "metadata": {},
   "source": [
    "# 2. CSVデータのDataFrameへのロード"
   ]
  },
  {
   "cell_type": "code",
   "execution_count": null,
   "metadata": {},
   "outputs": [],
   "source": [
    "import pandas as pd\n",
    "\n",
    "df_all = pd.read_csv('newly_confirmed_cases_daily.csv')\n",
    "display(df_all)"
   ]
  },
  {
   "cell_type": "markdown",
   "metadata": {},
   "source": [
    "# 3. 都道府県データ取得\n",
    "\n",
    "香川県のデータを取得します。"
   ]
  },
  {
   "cell_type": "code",
   "execution_count": null,
   "metadata": {},
   "outputs": [],
   "source": [
    "prefecture = 'Kagawa'\n",
    "df_prefecture = df_all[['Date', prefecture]].copy()\n",
    "df_prefecture"
   ]
  },
  {
   "cell_type": "markdown",
   "metadata": {},
   "source": [
    "# 4. AutoAI 時系列用データ作成"
   ]
  },
  {
   "cell_type": "code",
   "execution_count": null,
   "metadata": {},
   "outputs": [],
   "source": [
    "#Dateのフォーマット変更\n",
    "df_prefecture['Date'] = df_prefecture.apply(lambda x: pd.to_datetime(x['Date']).strftime('%Y-%02m-%02d'), axis=1)\n",
    "\n",
    "#県名の列名をNewly confirmed casesという列名に変更\n",
    "df_prefecture.rename(columns={prefecture: 'Newly confirmed cases'}, inplace=True)\n",
    "\n",
    "#インデックスリセット\n",
    "df_prefecture.reset_index(inplace=True, drop=True)\n",
    "\n",
    "# 保存\n",
    "project.save_data(\"covid19_timeseriesdata.csv\",df_prefecture.to_csv(index=False),overwrite=True)\n",
    "\n",
    "df_prefecture"
   ]
  }
 ],
 "metadata": {
  "kernelspec": {
   "display_name": "Python 3.8",
   "language": "python",
   "name": "python3"
  },
  "language_info": {
   "codemirror_mode": {
    "name": "ipython",
    "version": 3
   },
   "file_extension": ".py",
   "mimetype": "text/x-python",
   "name": "python",
   "nbconvert_exporter": "python",
   "pygments_lexer": "ipython3",
   "version": "3.8.12"
  }
 },
 "nbformat": 4,
 "nbformat_minor": 1
}
